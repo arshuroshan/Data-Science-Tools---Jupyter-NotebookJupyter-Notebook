{
 "cells": [
  {
   "cell_type": "markdown",
   "id": "6b99e794-3f96-42cb-8ff8-3a2da891161c",
   "metadata": {},
   "source": [
    "# Data Science Tools and Ecosystem"
   ]
  },
  {
   "cell_type": "markdown",
   "id": "e046d083-7692-4735-819f-35348da34c59",
   "metadata": {},
   "source": [
    "In this notebook, Data Science Tools and Ecosystem are summarized."
   ]
  },
  {
   "cell_type": "markdown",
   "id": "c17b376a-0482-43db-97d0-3f6c13ccf6ae",
   "metadata": {},
   "source": [
    "Some of the popular languages that Data Scientists use are:\n",
    "1. Python\n",
    "2. R\n",
    "3. SQL"
   ]
  },
  {
   "cell_type": "markdown",
   "id": "3c77d3e2-26e6-4e62-b206-0ffaa2614748",
   "metadata": {},
   "source": [
    "Some of the commonly used libraries used by Data Scientists include:\n",
    "1. Pandas\n",
    "2. NumPy\n",
    "3. Matplotlib"
   ]
  },
  {
   "cell_type": "markdown",
   "id": "3232e7b9-72de-4a8f-b0bf-27feece4be6f",
   "metadata": {},
   "source": [
    "| Data Science Tools |\n",
    "|--------------------|\n",
    "| JupyterLab          |\n",
    "| RStudio             |\n",
    "| Apache Spark        |"
   ]
  },
  {
   "cell_type": "code",
   "execution_count": null,
   "id": "f562edae-39e9-4e2b-8388-0b8a78bc70df",
   "metadata": {},
   "outputs": [],
   "source": []
  }
 ],
 "metadata": {
  "kernelspec": {
   "display_name": "Python 3 (ipykernel)",
   "language": "python",
   "name": "python3"
  },
  "language_info": {
   "codemirror_mode": {
    "name": "ipython",
    "version": 3
   },
   "file_extension": ".py",
   "mimetype": "text/x-python",
   "name": "python",
   "nbconvert_exporter": "python",
   "pygments_lexer": "ipython3",
   "version": "3.12.8"
  }
 },
 "nbformat": 4,
 "nbformat_minor": 5
}
